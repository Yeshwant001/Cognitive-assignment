{
  "nbformat": 4,
  "nbformat_minor": 0,
  "metadata": {
    "colab": {
      "provenance": []
    },
    "kernelspec": {
      "name": "python3",
      "display_name": "Python 3"
    },
    "language_info": {
      "name": "python"
    }
  },
  "cells": [
    {
      "cell_type": "markdown",
      "source": [
        "Q.1 Write a program to create a NumPy 1D-array with 5 elements and perform basic\n",
        "operations like:\n",
        "a) Addition of 2 in all the element\n",
        "b) Multiply 3 with all the elements\n",
        "c) Divide every element by 2"
      ],
      "metadata": {
        "id": "AipVn2vmJLMp"
      }
    },
    {
      "cell_type": "code",
      "execution_count": null,
      "metadata": {
        "colab": {
          "base_uri": "https://localhost:8080/"
        },
        "id": "gzXJw56NJGat",
        "outputId": "96913289-0cbc-40ac-ef3c-76e3abaf29be"
      },
      "outputs": [
        {
          "output_type": "stream",
          "name": "stdout",
          "text": [
            "[ 3.   4.   7.1 11.2 10. ]\n",
            "[ 9.  12.  21.3 33.6 30. ]\n",
            "[ 4.5   6.   10.65 16.8  15.  ]\n"
          ]
        }
      ],
      "source": [
        "import numpy as np\n",
        "\n",
        "arr= np.array([1,2,5.1,9.2,8])\n",
        "#add 2 to all elements\n",
        "for i in range(len(arr)):\n",
        "    arr[i]+=2\n",
        "print(arr)\n",
        "#multiply 3 with all elements\n",
        "for i in range(len(arr)):\n",
        "    arr[i]*=3\n",
        "print(arr)\n",
        "#divide every element by 2\n",
        "for i in range(len(arr)):\n",
        "    arr[i]/=2\n",
        "print(arr)"
      ]
    },
    {
      "cell_type": "markdown",
      "source": [
        "Q.2 Questions on Basic NumPy Array:\n",
        "a) Reverse the NumPy array: arr = np.array([1, 2, 3, 6, 4, 5])\n",
        "b) Find the most frequent value and their indice(s) in the following arrays:\n",
        "i. x = np.array([1,2,3,4,5,1,2,1,1,1])\n",
        "ii. y = np.array([1, 1, 1, 2, 3, 4, 2, 4, 3, 3, ])"
      ],
      "metadata": {
        "id": "oD2l5J2oKWlY"
      }
    },
    {
      "cell_type": "code",
      "source": [
        "import numpy as np\n",
        "#reversing array\n",
        "arr = np.array([1, 2, 3, 6, 4, 5])\n",
        "print(arr[::-1])\n",
        "\n",
        "#finding most frequent value\n",
        "def most_frequent_values(arr):\n",
        "    unique_values, counts = np.unique(arr, return_counts=True)  #used to find unique values in array\n",
        "    max_count = np.max(counts)\n",
        "    most_frequent = unique_values[counts == max_count]\n",
        "\n",
        "    result = {}\n",
        "    for value in most_frequent:\n",
        "        indices = np.where(arr == value)[0]  #used to find indices\n",
        "        result[value] = indices.tolist()\n",
        "\n",
        "    return result\n",
        "\n",
        "x = np.array([1,2,3,4,5,1,2,1,1,1])\n",
        "y= np.array([1,1,1,2,3,4,2,4,3,3])\n",
        "\n",
        "result_x= most_frequent_values(x)\n",
        "result_y= most_frequent_values(y)\n",
        "\n",
        "print(result_x)\n",
        "print(result_y)"
      ],
      "metadata": {
        "colab": {
          "base_uri": "https://localhost:8080/"
        },
        "id": "gM5IQOYCKf8u",
        "outputId": "55ddc9cc-a77a-4bb5-f962-691ff0468aef"
      },
      "execution_count": null,
      "outputs": [
        {
          "output_type": "stream",
          "name": "stdout",
          "text": [
            "[5 4 6 3 2 1]\n",
            "{1: [0, 5, 7, 8, 9]}\n",
            "{1: [0, 1, 2], 3: [4, 8, 9]}\n"
          ]
        }
      ]
    },
    {
      "cell_type": "markdown",
      "source": [
        "Q.3 For the given 2-D array arr=np.array([10, 20, 30], [40, 50, 60], [70, 80, 90]), access\n",
        "elements using row and column indices as follows:\n",
        "a) Access 1st row, 2nd column\n",
        "b) Access 3rd row, 1st column"
      ],
      "metadata": {
        "id": "XWEN3bm4NwLn"
      }
    },
    {
      "cell_type": "code",
      "source": [
        "import numpy as np\n",
        "\n",
        "arr = np.array([[10,20,30],[40,50,60],[70,80,90]])\n",
        "print(arr[0][1])\n",
        "print(arr[2][0])"
      ],
      "metadata": {
        "colab": {
          "base_uri": "https://localhost:8080/"
        },
        "id": "SB09J8I3N73j",
        "outputId": "b1000f96-56c0-4772-e451-0740d1ea4bf8"
      },
      "execution_count": null,
      "outputs": [
        {
          "output_type": "stream",
          "name": "stdout",
          "text": [
            "20\n",
            "70\n"
          ]
        }
      ]
    },
    {
      "cell_type": "markdown",
      "source": [
        "Q.4 Write program to create an 1-D NumPy array named (Your_Name) with evenly\n",
        "spaced 25 numbers from 10 to 100 using linspace(). Print the dimensions of the array,\n",
        "shape, total elements, the data type of each element and total number of bytes consumed\n",
        "by the array. Find the transpose of this array using reshape() attribute. Can we do the same\n",
        "with T attribute?"
      ],
      "metadata": {
        "id": "gzMsX8gOOSa_"
      }
    },
    {
      "cell_type": "code",
      "source": [
        "import numpy as np\n",
        "\n",
        "Harshit = np.array(np.linspace(10,100,25))\n",
        "print(Harshit)\n",
        "print(Harshit.ndim)\n",
        "print(Harshit.shape)\n",
        "print(Harshit.size)\n",
        "print(Harshit.dtype)\n",
        "print(Harshit.nbytes)\n",
        "\n",
        "Harshit2 = Harshit.copy()\n",
        "\n",
        "transpose = Harshit.reshape(25,1)\n",
        "print(transpose)\n",
        "\n",
        "transpose2 = Harshit2.T\n",
        "print(transpose2)\n",
        "\n",
        "print(\"\\nDoes .T work the same way?\", np.array_equal(transpose, transpose2))"
      ],
      "metadata": {
        "colab": {
          "base_uri": "https://localhost:8080/"
        },
        "id": "0trrp92ZOTeK",
        "outputId": "2e3702ad-2e20-4574-913f-10064e07acdd"
      },
      "execution_count": null,
      "outputs": [
        {
          "output_type": "stream",
          "name": "stdout",
          "text": [
            "[ 10.    13.75  17.5   21.25  25.    28.75  32.5   36.25  40.    43.75\n",
            "  47.5   51.25  55.    58.75  62.5   66.25  70.    73.75  77.5   81.25\n",
            "  85.    88.75  92.5   96.25 100.  ]\n",
            "1\n",
            "(25,)\n",
            "25\n",
            "float64\n",
            "200\n",
            "[[ 10.  ]\n",
            " [ 13.75]\n",
            " [ 17.5 ]\n",
            " [ 21.25]\n",
            " [ 25.  ]\n",
            " [ 28.75]\n",
            " [ 32.5 ]\n",
            " [ 36.25]\n",
            " [ 40.  ]\n",
            " [ 43.75]\n",
            " [ 47.5 ]\n",
            " [ 51.25]\n",
            " [ 55.  ]\n",
            " [ 58.75]\n",
            " [ 62.5 ]\n",
            " [ 66.25]\n",
            " [ 70.  ]\n",
            " [ 73.75]\n",
            " [ 77.5 ]\n",
            " [ 81.25]\n",
            " [ 85.  ]\n",
            " [ 88.75]\n",
            " [ 92.5 ]\n",
            " [ 96.25]\n",
            " [100.  ]]\n",
            "[ 10.    13.75  17.5   21.25  25.    28.75  32.5   36.25  40.    43.75\n",
            "  47.5   51.25  55.    58.75  62.5   66.25  70.    73.75  77.5   81.25\n",
            "  85.    88.75  92.5   96.25 100.  ]\n",
            "\n",
            "Does .T work the same way? False\n"
          ]
        }
      ]
    },
    {
      "cell_type": "markdown",
      "source": [
        "Q5. Create a 2-D Array of three rows and four columns, named ucs420_(your_name)\n",
        "with following values – 10, 20, 30, 40, 50, 60, 70, 80, 90, 15, 20, 35. Compute the mean,\n",
        "median, max, min, unique elements. Reshape the array to four rows and three columns and\n",
        "name it as reshaped_ ucs420_(your_name). Resize the array to two rows and three\n",
        "columns and name it as resized_ ucs420_(your_name)."
      ],
      "metadata": {
        "id": "lLdoAQbhQ2Y7"
      }
    },
    {
      "cell_type": "code",
      "source": [
        "import numpy as np\n",
        "\n",
        "ucs420_Harshit = np.array([[10,20,30,40],[50,60,70,80],[90,15,20,35]])\n",
        "print(ucs420_Harshit)\n",
        "mean = np.mean(ucs420_Harshit)\n",
        "print(mean)\n",
        "\n",
        "median = np.median(ucs420_Harshit)\n",
        "print(median)\n",
        "\n",
        "max = np.max(ucs420_Harshit)\n",
        "print(max)\n",
        "\n",
        "min = np.min(ucs420_Harshit)\n",
        "print(min)\n",
        "\n",
        "unique = np.unique(ucs420_Harshit)\n",
        "print(unique)\n",
        "\n",
        "reshaped_ucs420_Harshit = ucs420_Harshit.reshape(4,3)\n",
        "print(reshaped_ucs420_Harshit)\n",
        "\n",
        "resized_ucs420_Harshit = np.resize(ucs420_Harshit, (2, 3))\n",
        "print(\"Resized Array (2x3):\")\n",
        "print(resized_ucs420_Harshit)"
      ],
      "metadata": {
        "colab": {
          "base_uri": "https://localhost:8080/"
        },
        "id": "ArF7Ts7GQ-V-",
        "outputId": "b3216a2d-952e-40dc-9a7a-41e2885bf0a3"
      },
      "execution_count": null,
      "outputs": [
        {
          "output_type": "stream",
          "name": "stdout",
          "text": [
            "[[10 20 30 40]\n",
            " [50 60 70 80]\n",
            " [90 15 20 35]]\n",
            "43.333333333333336\n",
            "37.5\n",
            "90\n",
            "10\n",
            "[10 15 20 30 35 40 50 60 70 80 90]\n",
            "[[10 20 30]\n",
            " [40 50 60]\n",
            " [70 80 90]\n",
            " [15 20 35]]\n",
            "Resized Array (2x3):\n",
            "[[10 20 30]\n",
            " [40 50 60]]\n"
          ]
        }
      ]
    }
  ]
}